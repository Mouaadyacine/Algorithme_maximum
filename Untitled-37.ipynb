{
 "cells": [
  {
   "cell_type": "code",
   "execution_count": null,
   "metadata": {},
   "outputs": [],
   "source": [
    "variable \n",
    "  i,max:entiers \n",
    "tableau\n",
    "  t(10):entier \n",
    "debut \n",
    "pour i recoit 0 a 9 pas 1 faire \n",
    "ecrire(\"donner le nombre numero\",i+1)\n",
    "lire(t(i))\n",
    "fin pour \n",
    "max=t(i)\n",
    "pour i recoit 0 a 9 pas 1 faire \n",
    "si max<t(i) alors\n",
    "max=t(i)\n",
    "fin si \n",
    "fin pour \n",
    "fin "
   ]
  }
 ],
 "metadata": {
  "language_info": {
   "name": "python"
  }
 },
 "nbformat": 4,
 "nbformat_minor": 2
}
